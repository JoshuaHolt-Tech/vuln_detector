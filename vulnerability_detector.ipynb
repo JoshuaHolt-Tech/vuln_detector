{
 "cells": [
  {
   "cell_type": "markdown",
   "id": "6f371734-b4ae-4970-b70f-edb59c00929b",
   "metadata": {},
   "source": [
    "# Automated Vulnerability Detection:\r\n",
    "\r\n",
    "Objective: The goal of this project is to build a model that can accurately detect vulnerabilities in a system. This is a crucial part of penetration testing, as identifying vulnerabilities is the first step in securing a system."
   ]
  },
  {
   "cell_type": "markdown",
   "id": "2beb91db-6038-44cb-a1e5-3eaf3653d726",
   "metadata": {
    "jp-MarkdownHeadingCollapsed": true
   },
   "source": [
    "## Data: \n",
    "\n",
    "You can use the Common Vulnerabilities and Exposures (CVE) dataset, which is a list of entries—each containing an identification number, a description, and at least one public reference—for publicly known cybersecurity vulnerabilities. It's available here:\n",
    "\n",
    "https://www.cve.org/Downloads\n",
    "\n",
    "Schema information:\n",
    "\n",
    "https://github.com/CVEProject/cve-schema\n",
    "https://github.com/CVEProject/cve-schema/blob/master/schema/v5.0/CVE_JSON_5.0_schema.json"
   ]
  },
  {
   "cell_type": "markdown",
   "id": "168cba2f-51fa-4d9e-82a2-bfcc5d0d6da9",
   "metadata": {},
   "source": [
    "## Procedure: \n",
    "\n",
    "Find:\n",
    "- Description\n",
    "- CVSS score aka \"Aggregate Severity\"\n",
    "- Affected software\n",
    "- Any other information that might be useful for predicting vulnerabilities"
   ]
  },
  {
   "cell_type": "code",
   "execution_count": 1,
   "id": "6e241448-e7de-410f-83a0-99e9780cb03d",
   "metadata": {},
   "outputs": [],
   "source": [
    "import json\n",
    "import os"
   ]
  },
  {
   "cell_type": "markdown",
   "id": "bc083a27-0a25-4b98-8c5a-f6c9f9ef0b7e",
   "metadata": {},
   "source": [
    "try something like:\n",
    "# Figure out how to point it at the `cves` folder\n",
    "# Driver function\n",
    "import os\n",
    "if __name__ == \"__main__\":\n",
    "    for (root,dirs,files) in os.walk('.', topdown=True):\n",
    "        print (root)\n",
    "        print (dirs)\n",
    "        print (files)\n",
    "        print ('--------------------------------')"
   ]
  },
  {
   "cell_type": "code",
   "execution_count": null,
   "id": "ae4fa4bb-33d8-4c50-8e25-4c75254103f7",
   "metadata": {},
   "outputs": [],
   "source": []
  }
 ],
 "metadata": {
  "kernelspec": {
   "display_name": "Python 3 (ipykernel)",
   "language": "python",
   "name": "python3"
  },
  "language_info": {
   "codemirror_mode": {
    "name": "ipython",
    "version": 3
   },
   "file_extension": ".py",
   "mimetype": "text/x-python",
   "name": "python",
   "nbconvert_exporter": "python",
   "pygments_lexer": "ipython3",
   "version": "3.10.9"
  }
 },
 "nbformat": 4,
 "nbformat_minor": 5
}
